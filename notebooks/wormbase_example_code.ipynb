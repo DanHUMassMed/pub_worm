{
 "cells": [
  {
   "cell_type": "markdown",
   "metadata": {},
   "source": [
    "# Example Code to test the Pub_worm API"
   ]
  },
  {
   "cell_type": "code",
   "execution_count": null,
   "metadata": {},
   "outputs": [],
   "source": [
    "import sys\n",
    "import inspect\n",
    "import pandas as pd\n",
    "from openpyxl import Workbook\n",
    "from openpyxl.styles import PatternFill\n",
    "from openpyxl.utils import get_column_letter\n",
    "import os\n",
    "import json\n",
    "\n",
    "# Add pub_worm directory to the Python path\n",
    "sys.path.append(\"/Users/dan/Code/Python/pub_worm\")\n",
    "\n",
    "from pub_worm.wormbase.wormbase_api import WormbaseAPI\n",
    "\n",
    "# Find where WormbaseAPI is being load from\n",
    "module = inspect.getmodule(WormbaseAPI)\n",
    "if hasattr(module, \"__file__\"):\n",
    "    file_path = module.__file__\n",
    "    print(\"WormbaseAPI imported from:\", file_path)\n",
    "else:\n",
    "    print(\"Could not determine the file path.\")"
   ]
  },
  {
   "cell_type": "code",
   "execution_count": null,
   "metadata": {},
   "outputs": [],
   "source": [
    "wormbase_id = \"WBGene00195248\"\n",
    "wormbase_api = WormbaseAPI(\"field\", \"gene\", \"gene_ontology_summary\")\n",
    "wormbase_data_result = wormbase_api.get_wormbase_data(wormbase_id)\n",
    "pretty_data = json.dumps(wormbase_data_result, indent=4)\n",
    "print(pretty_data)"
   ]
  },
  {
   "cell_type": "markdown",
   "metadata": {},
   "source": []
  },
  {
   "cell_type": "code",
   "execution_count": null,
   "metadata": {},
   "outputs": [],
   "source": [
    "import requests\n",
    "import os\n",
    "\n",
    "access_token = os.getenv(\"ORCID_ACCESS_TOKEN\")\n",
    "print(access_token)\n",
    "orcid_id = \"0000-0002-2403-8551\"\n",
    "\n",
    "url = f\"https://pub.orcid.org/v3.0/{orcid_id}\"\n",
    "\n",
    "headers = {\n",
    "    \"Accept\": \"application/vnd.orcid+json\",\n",
    "    \"Authorization type and Access token\": f\"Bearer {access_token}\"\n",
    "}\n",
    "\n",
    "# headers = {\n",
    "#     \"Content-type\": \"application/vnd.orcid+xml\",\n",
    "#     \"Authorization\": f\"Bearer {access_token}\"\n",
    "# }\n",
    "\n",
    "try:\n",
    "    response = requests.get(url, headers=headers)\n",
    "    if response.status_code == 200:\n",
    "        print(f\"Response: {response.text}\")\n",
    "    else:\n",
    "        print(f\"Failed to fetch data. Response Code: {response.status_code}\")\n",
    "except requests.RequestException as e:\n",
    "    print(f\"An error occurred: {e}\")"
   ]
  },
  {
   "cell_type": "code",
   "execution_count": null,
   "metadata": {},
   "outputs": [],
   "source": [
    "env_vars = os.environ\n",
    "\n",
    "# Print each environment variable\n",
    "for key, value in env_vars.items():\n",
    "    print(f\"{key}: {value}\")\n"
   ]
  },
  {
   "cell_type": "code",
   "execution_count": null,
   "metadata": {},
   "outputs": [],
   "source": []
  }
 ],
 "metadata": {
  "kernelspec": {
   "display_name": "dan-dev",
   "language": "python",
   "name": "python3"
  },
  "language_info": {
   "codemirror_mode": {
    "name": "ipython",
    "version": 3
   },
   "file_extension": ".py",
   "mimetype": "text/x-python",
   "name": "python",
   "nbconvert_exporter": "python",
   "pygments_lexer": "ipython3",
   "version": "3.10.13"
  }
 },
 "nbformat": 4,
 "nbformat_minor": 2
}
