{
 "cells": [
  {
   "cell_type": "markdown",
   "metadata": {},
   "source": [
    "# Example Code to test the Pub_worm API"
   ]
  },
  {
   "cell_type": "code",
   "execution_count": 3,
   "metadata": {},
   "outputs": [
    {
     "name": "stdout",
     "output_type": "stream",
     "text": [
      "WormbaseAPI imported from: /Users/dan/Code/Python/pub_worm/pub_worm/wormbase/wormbase_api.py\n"
     ]
    }
   ],
   "source": [
    "import sys\n",
    "import inspect\n",
    "import pandas as pd\n",
    "from openpyxl import Workbook\n",
    "from openpyxl.styles import PatternFill\n",
    "from openpyxl.utils import get_column_letter\n",
    "import os\n",
    "import json\n",
    "\n",
    "# Add pub_worm directory to the Python path\n",
    "sys.path.append(\"/Users/dan/Code/Python/pub_worm\")\n",
    "\n",
    "from pub_worm.wormbase.wormbase_api import WormbaseAPI\n",
    "\n",
    "# Find where WormbaseAPI is being load from\n",
    "module = inspect.getmodule(WormbaseAPI)\n",
    "if hasattr(module, \"__file__\"):\n",
    "    file_path = module.__file__\n",
    "    print(\"WormbaseAPI imported from:\", file_path)\n",
    "else:\n",
    "    print(\"Could not determine the file path.\")"
   ]
  },
  {
   "cell_type": "code",
   "execution_count": 4,
   "metadata": {},
   "outputs": [
    {
     "name": "stdout",
     "output_type": "stream",
     "text": [
      "{\n",
      "    \"gene_ontology_summary\": {\n",
      "        \"Molecular_function\": {\n",
      "            \"go_term\": \"inorganic cation transmembrane transporter activity\",\n",
      "            \"go_id\": \"GO:0022890\"\n",
      "        },\n",
      "        \"Cellular_component\": [\n",
      "            {\n",
      "                \"go_term\": \"EMC complex\",\n",
      "                \"go_id\": \"GO:0072546\"\n",
      "            },\n",
      "            {\n",
      "                \"go_term\": \"early endosome membrane\",\n",
      "                \"go_id\": \"GO:0031901\"\n",
      "            },\n",
      "            {\n",
      "                \"go_term\": \"endoplasmic reticulum\",\n",
      "                \"go_id\": \"GO:0005783\"\n",
      "            },\n",
      "            {\n",
      "                \"go_term\": \"early endosome\",\n",
      "                \"go_id\": \"GO:0005769\"\n",
      "            },\n",
      "            {\n",
      "                \"go_term\": \"endosome\",\n",
      "                \"go_id\": \"GO:0005768\"\n",
      "            },\n",
      "            {\n",
      "                \"go_term\": \"plasma membrane\",\n",
      "                \"go_id\": \"GO:0005886\"\n",
      "            },\n",
      "            {\n",
      "                \"go_term\": \"cytoplasm\",\n",
      "                \"go_id\": \"GO:0005737\"\n",
      "            },\n",
      "            {\n",
      "                \"go_term\": \"membrane\",\n",
      "                \"go_id\": \"GO:0016020\"\n",
      "            },\n",
      "            {\n",
      "                \"go_term\": \"intracellular membrane-bounded organelle\",\n",
      "                \"go_id\": \"GO:0043231\"\n",
      "            },\n",
      "            {\n",
      "                \"go_term\": \"Golgi apparatus\",\n",
      "                \"go_id\": \"GO:0005794\"\n",
      "            },\n",
      "            {\n",
      "                \"go_term\": \"endoplasmic reticulum membrane\",\n",
      "                \"go_id\": \"GO:0005789\"\n",
      "            },\n",
      "            {\n",
      "                \"go_term\": \"Golgi membrane\",\n",
      "                \"go_id\": \"GO:0000139\"\n",
      "            }\n",
      "        ],\n",
      "        \"Biological_process\": {\n",
      "            \"go_term\": \"transmembrane transport\",\n",
      "            \"go_id\": \"GO:0055085\"\n",
      "        }\n",
      "    }\n",
      "}\n"
     ]
    }
   ],
   "source": [
    "wormbase_id = \"WBGene00195248\"\n",
    "wormbase_api = WormbaseAPI(\"field\", \"gene\", \"gene_ontology_summary\")\n",
    "wormbase_data_result = wormbase_api.get_wormbase_data(wormbase_id)\n",
    "pretty_data = json.dumps(wormbase_data_result, indent=4)\n",
    "print(pretty_data)"
   ]
  },
  {
   "cell_type": "markdown",
   "metadata": {},
   "source": []
  }
 ],
 "metadata": {
  "kernelspec": {
   "display_name": "dan-dev",
   "language": "python",
   "name": "python3"
  },
  "language_info": {
   "codemirror_mode": {
    "name": "ipython",
    "version": 3
   },
   "file_extension": ".py",
   "mimetype": "text/x-python",
   "name": "python",
   "nbconvert_exporter": "python",
   "pygments_lexer": "ipython3",
   "version": "3.10.13"
  }
 },
 "nbformat": 4,
 "nbformat_minor": 2
}
