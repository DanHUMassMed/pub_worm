{
 "cells": [
  {
   "cell_type": "markdown",
   "metadata": {},
   "source": [
    "# Example Code to test the Pub_worm API"
   ]
  },
  {
   "cell_type": "code",
   "execution_count": null,
   "metadata": {},
   "outputs": [],
   "source": [
    "import sys\n",
    "import inspect\n",
    "import pandas as pd\n",
    "from openpyxl import Workbook\n",
    "from openpyxl.styles import PatternFill\n",
    "from openpyxl.utils import get_column_letter\n",
    "import os\n",
    "import json\n",
    "\n",
    "# Add pub_worm directory to the Python path\n",
    "sys.path.insert(0, \"/Users/dan/Code/Python/pub_worm\")\n",
    "\n",
    "from pub_worm.wormbase.wormbase_api import WormbaseAPI\n",
    "from pub_worm.ensembl.ensembl_api import get_sequence_region, async_get_sequence_region, create_fasta\n",
    "\n",
    "\n",
    "# Find where WormbaseAPI is being load from\n",
    "module = inspect.getmodule(WormbaseAPI)\n",
    "if hasattr(module, \"__file__\"):\n",
    "    file_path = module.__file__\n",
    "    print(\"WormbaseAPI imported from:\", file_path)\n",
    "else:\n",
    "    print(\"Could not determine the file path.\")"
   ]
  },
  {
   "cell_type": "code",
   "execution_count": null,
   "metadata": {},
   "outputs": [],
   "source": [
    "wormbase_ids = ['WBGene00000001','WBGene00000002','WBGene00000003','WBGene00000004','WBGene00000005','WBGene00000006','WBGene00000007',\n",
    "                'WBGene00000008','WBGene00000009','WBGene00000010','WBGene00000011','WBGene00000012','WBGene00000013','WBGene00000014',\n",
    "                'WBGene00000015','WBGene00000016','WBGene00000017','WBGene00000018','WBGene00000019','WBGene00000020']\n",
    "wormbase_api = WormbaseAPI(\"field\", \"gene\", \"phenotype\")\n",
    "wormbase_data_result = wormbase_api.get_wormbase_data_cpu(wormbase_ids,2)\n",
    "#pretty_data = json.dumps(wormbase_data_result, indent=4)\n",
    "#print(pretty_data)\n",
    "wormbase_data_result"
   ]
  },
  {
   "cell_type": "code",
   "execution_count": null,
   "metadata": {},
   "outputs": [],
   "source": [
    "wormbase_id = \"WBGene00000001\"\n",
    "wormbase_api = WormbaseAPI(\"field\", \"gene\", \"gene_ontology_ribbon\")\n",
    "wormbase_data_result = wormbase_api.get_wormbase_data(wormbase_id)\n",
    "pretty_data = json.dumps(wormbase_data_result, indent=4)\n",
    "print(pretty_data)\n"
   ]
  },
  {
   "cell_type": "code",
   "execution_count": null,
   "metadata": {},
   "outputs": [],
   "source": [
    "wormbase_id = \"WBGene00000001\"\n",
    "wormbase_api = WormbaseAPI(\"field\", \"gene\", \"phenotype\")\n",
    "wormbase_data_result = wormbase_api.get_wormbase_data(wormbase_id)\n",
    "pretty_data = json.dumps(wormbase_data_result, indent=4)\n",
    "print(pretty_data)"
   ]
  },
  {
   "cell_type": "code",
   "execution_count": null,
   "metadata": {},
   "outputs": [],
   "source": [
    "wormbase_id = \"WBGene00006959\"\n",
    "wormbase_api = WormbaseAPI(\"field\", \"gene\", \"genomic_position\")\n",
    "wormbase_data_result = await wormbase_api.async_get_wormbase_data(wormbase_id)\n",
    "pretty_data = json.dumps(wormbase_data_result, indent=4)\n",
    "print(pretty_data)\n",
    "chromosome = wormbase_data_result[\"genomic_position\"][\"seqname\"]\n",
    "sequence_region = await async_get_sequence_region(\n",
    "    wormbase_data_result[\"genomic_position\"][\"start\"],\n",
    "    wormbase_data_result[\"genomic_position\"][\"stop\"],\n",
    "    chromosome\n",
    "    )\n",
    "\n",
    "print(sequence_region)"
   ]
  },
  {
   "cell_type": "code",
   "execution_count": null,
   "metadata": {},
   "outputs": [],
   "source": [
    "import requests\n",
    "import os\n",
    "\n",
    "access_token = os.getenv(\"ORCID_ACCESS_TOKEN\")\n",
    "print(access_token)\n",
    "orcid_id = \"0000-0002-2403-8551\"\n",
    "\n",
    "url = f\"https://pub.orcid.org/v3.0/{orcid_id}\"\n",
    "\n",
    "headers = {\n",
    "    \"Accept\": \"application/vnd.orcid+json\",\n",
    "    \"Authorization type and Access token\": f\"Bearer {access_token}\"\n",
    "}\n",
    "\n",
    "# headers = {\n",
    "#     \"Content-type\": \"application/vnd.orcid+xml\",\n",
    "#     \"Authorization\": f\"Bearer {access_token}\"\n",
    "# }\n",
    "\n",
    "try:\n",
    "    response = requests.get(url, headers=headers)\n",
    "    if response.status_code == 200:\n",
    "        print(f\"Response: {response.text}\")\n",
    "    else:\n",
    "        print(f\"Failed to fetch data. Response Code: {response.status_code}\")\n",
    "except requests.RequestException as e:\n",
    "    print(f\"An error occurred: {e}\")"
   ]
  },
  {
   "cell_type": "code",
   "execution_count": null,
   "metadata": {},
   "outputs": [],
   "source": [
    "env_vars = os.environ\n",
    "\n",
    "# Print each environment variable\n",
    "for key, value in env_vars.items():\n",
    "    print(f\"{key}: {value}\")\n"
   ]
  },
  {
   "cell_type": "code",
   "execution_count": null,
   "metadata": {},
   "outputs": [],
   "source": [
    "\n"
   ]
  }
 ],
 "metadata": {
  "kernelspec": {
   "display_name": "dan-dev",
   "language": "python",
   "name": "python3"
  },
  "language_info": {
   "codemirror_mode": {
    "name": "ipython",
    "version": 3
   },
   "file_extension": ".py",
   "mimetype": "text/x-python",
   "name": "python",
   "nbconvert_exporter": "python",
   "pygments_lexer": "ipython3",
   "version": "3.10.13"
  }
 },
 "nbformat": 4,
 "nbformat_minor": 2
}
