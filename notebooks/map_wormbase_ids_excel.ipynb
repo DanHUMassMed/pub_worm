{
 "cells": [
  {
   "cell_type": "code",
   "execution_count": null,
   "id": "765879d3",
   "metadata": {},
   "outputs": [],
   "source": [
    "import sys\n",
    "from pathlib import Path\n",
    "\n",
    "# Add pub_worm directory to the Python path\n",
    "sys.path.insert(0, str(Path.cwd().parent))\n",
    "\n",
    "# Test where we are loading the pub_worm objects from\n",
    "import inspect\n",
    "from pub_worm.wormbase.wormbase_api import WormbaseAPI\n",
    "\n",
    "module = inspect.getmodule(WormbaseAPI)\n",
    "if hasattr(module, \"__file__\"):\n",
    "    print(\"WormbaseAPI imported from:\", module.__file__)\n",
    "else:\n",
    "    print(\"Could not determine the file path.\")"
   ]
  },
  {
   "cell_type": "code",
   "execution_count": null,
   "id": "cee29a01",
   "metadata": {},
   "outputs": [],
   "source": [
    "import pandas as pd\n",
    "wS296_gene_ids_df = pd.read_csv(\"./wormbase_data/c_elegans.PRJNA13758.WS296.geneIDs.csv\")\n",
    "excel_file = \"./wormbase_data/1-s2.0-mmc6.xlsx\"\n",
    "sheets_dict = pd.read_excel(excel_file, sheet_name=None)\n"
   ]
  },
  {
   "cell_type": "code",
   "execution_count": null,
   "id": "7dda33fe",
   "metadata": {},
   "outputs": [],
   "source": [
    "gene_ids_df = pd.read_csv(\"./wormbase_data/c_elegans.PRJNA13758.WS296.geneIDs.csv\").fillna('')\n",
    "\n",
    "gene_ids_dict = {}\n",
    "for _, row in gene_ids_df.iterrows():\n",
    "    for key in ['Wormbase_Id', 'Gene_name', 'Sequence_id']:\n",
    "        id_val = str(row[key]).upper()\n",
    "        gene_ids_dict[id_val] = row.to_dict()\n",
    "            "
   ]
  },
  {
   "cell_type": "code",
   "execution_count": null,
   "id": "f53e8308",
   "metadata": {},
   "outputs": [],
   "source": [
    "from pub_worm.wormbase.wormbase_util import _lookup_wormbase_id\n",
    "\n",
    "def lookup_wormbase_id(sequence_id, gene_ids_dict):\n",
    "    results_dict = _lookup_wormbase_id(sequence_id, gene_ids_dict)\n",
    "    if results_dict:\n",
    "        return results_dict['Wormbase_Id']\n",
    "    return None\n",
    "    "
   ]
  },
  {
   "cell_type": "code",
   "execution_count": null,
   "id": "c7bd6368",
   "metadata": {},
   "outputs": [],
   "source": [
    "from pub_worm.wormbase.wormbase_util import map_wormbase_ids,_lookup_wormbase_id\n",
    " \n",
    "results_dict = {}\n",
    "\n",
    "for sheet_name, df in sheets_dict.items():\n",
    "    if 'genename' in df.columns:\n",
    "        df['Wormbase_Id'] = df['genename'].apply(lambda g: lookup_wormbase_id(g, gene_ids_dict))\n",
    "        results_dict[sheet_name] = df\n",
    "    \n"
   ]
  },
  {
   "cell_type": "code",
   "execution_count": null,
   "id": "9d35e131",
   "metadata": {},
   "outputs": [],
   "source": [
    "# from pub_worm.wormbase.wormbase_util import map_wormbase_ids,_lookup_wormbase_id\n",
    " \n",
    "# results_dict = {}\n",
    "\n",
    "# for sheet_name, df in sheets_dict.items():\n",
    "#     # Sanitize the sheet name to avoid issues in filenames\n",
    "#     safe_name = sheet_name.replace(\" \", \"_\").replace(\"/\", \"_\")\n",
    "#     csv_filename = f\"./wormbase_data/{safe_name}.csv\"\n",
    "    \n",
    "#     df.to_csv(csv_filename, index=False)\n",
    "#     try:\n",
    "#         df = map_wormbase_ids(csv_filename, column_name='genename', gene_ids_df=wS296_gene_ids_df)\n",
    "#         results_dict[sheet_name] = df\n",
    "#         print(f\"Saved: {csv_filename}\")\n",
    "#     except Exception as e:\n",
    "#         continue\n"
   ]
  },
  {
   "cell_type": "code",
   "execution_count": null,
   "id": "d8a56958",
   "metadata": {},
   "outputs": [],
   "source": [
    "with pd.ExcelWriter(\"results2.xlsx\") as writer:\n",
    "    for sheet_name, df in results_dict.items():\n",
    "        # Write to the Excel file with the sheet named after the key\n",
    "        if 'Wormbase_Id' in df.columns:\n",
    "            # Create a new column order with Wormbase_Id first\n",
    "            cols = ['Wormbase_Id'] + [col for col in df.columns if col != 'Wormbase_Id']\n",
    "            df = df[cols]\n",
    "        # Write the DataFrame to the specified sheet    \n",
    "        df.to_excel(writer, sheet_name=sheet_name, index=False)"
   ]
  },
  {
   "cell_type": "code",
   "execution_count": null,
   "id": "62f76047",
   "metadata": {},
   "outputs": [],
   "source": []
  }
 ],
 "metadata": {
  "kernelspec": {
   "display_name": "dan-dev",
   "language": "python",
   "name": "python3"
  },
  "language_info": {
   "codemirror_mode": {
    "name": "ipython",
    "version": 3
   },
   "file_extension": ".py",
   "mimetype": "text/x-python",
   "name": "python",
   "nbconvert_exporter": "python",
   "pygments_lexer": "ipython3",
   "version": "3.10.13"
  }
 },
 "nbformat": 4,
 "nbformat_minor": 5
}
