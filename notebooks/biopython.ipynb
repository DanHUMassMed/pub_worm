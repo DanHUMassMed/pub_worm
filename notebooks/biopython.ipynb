{
 "cells": [
  {
   "cell_type": "code",
   "execution_count": null,
   "metadata": {},
   "outputs": [],
   "source": [
    "import os\n",
    "from Bio import Entrez\n",
    "from bs4 import BeautifulSoup\n",
    "\n",
    "Entrez.api_key = api_key = os.environ.get('NCBI_API_KEY', None)\n",
    "print(Entrez.api_key)"
   ]
  },
  {
   "cell_type": "code",
   "execution_count": null,
   "metadata": {},
   "outputs": [],
   "source": [
    "Entrez.email = \"A.N.Other@example.com\"\n",
    "stream = Entrez.einfo()\n",
    "result = stream.read()\n",
    "stream.close()\n",
    "\n",
    "soup = BeautifulSoup(result, \"xml\")\n",
    "db_name_tags = soup.find_all('DbName')\n",
    "db_names = [db_name_tag.get_text(strip=True) for db_name_tag in db_name_tags]\n",
    "print(db_names)\n"
   ]
  },
  {
   "cell_type": "code",
   "execution_count": null,
   "metadata": {},
   "outputs": [],
   "source": [
    "for db_name in db_names:\n",
    "    stream = Entrez.einfo(db=db_name)\n",
    "    record = Entrez.read(stream)\n",
    "    print(record)\n",
    "    print(\"=\"*40)\n"
   ]
  },
  {
   "cell_type": "code",
   "execution_count": null,
   "metadata": {},
   "outputs": [],
   "source": []
  }
 ],
 "metadata": {
  "kernelspec": {
   "display_name": "dan-dev",
   "language": "python",
   "name": "python3"
  },
  "language_info": {
   "codemirror_mode": {
    "name": "ipython",
    "version": 3
   },
   "file_extension": ".py",
   "mimetype": "text/x-python",
   "name": "python",
   "nbconvert_exporter": "python",
   "pygments_lexer": "ipython3",
   "version": "3.10.13"
  }
 },
 "nbformat": 4,
 "nbformat_minor": 2
}
