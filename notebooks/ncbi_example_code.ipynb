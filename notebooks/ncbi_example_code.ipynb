{
 "cells": [
  {
   "cell_type": "markdown",
   "metadata": {},
   "source": [
    "# Example Code to test the Pub_worm API"
   ]
  },
  {
   "cell_type": "code",
   "execution_count": null,
   "metadata": {},
   "outputs": [],
   "source": [
    "import sys\n",
    "import inspect\n",
    "import pandas as pd\n",
    "from openpyxl import Workbook\n",
    "from openpyxl.styles import PatternFill\n",
    "from openpyxl.utils import get_column_letter\n",
    "import os\n",
    "import json\n",
    "\n",
    "# Add pub_worm directory to the Python path\n",
    "sys.path.append(\"/Users/dan/Code/Python/pub_worm\")\n",
    "\n",
    "from pub_worm.ncbi.entreze_api import EntrezAPI\n",
    "\n",
    "# Find where EntrezAPI is being load from\n",
    "module = inspect.getmodule(EntrezAPI)\n",
    "if hasattr(module, \"__file__\"):\n",
    "    file_path = module.__file__\n",
    "    print(\"EntrezAPI imported from:\", file_path)\n",
    "else:\n",
    "    print(\"Could not determine the file path.\")"
   ]
  },
  {
   "cell_type": "code",
   "execution_count": null,
   "metadata": {},
   "outputs": [],
   "source": [
    "# Example call to ePost and eSummary\n",
    "data = [\"10021351\", \"10022905\", \"10022914\", \"10022975\", \"10048487\", \"10048958\", \"10049162\", \"10049362\", \"10049567\", \"10049576\", \"10051671\", \"10051850\", \"10064800\", \"10066248\"]\n",
    "\n",
    "ncbi_api = EntrezAPI()\n",
    "entreze_epost_result = ncbi_api.entreze_epost(data)\n",
    "\n",
    "if 'WebEnv' in entreze_epost_result:\n",
    "    entreze_summaries_result = ncbi_api.entreze_pmid_summaries(entreze_epost_result)\n",
    "    pretty_data = json.dumps(entreze_summaries_result, indent=4)\n",
    "    print(pretty_data)"
   ]
  },
  {
   "cell_type": "code",
   "execution_count": null,
   "metadata": {},
   "outputs": [],
   "source": [
    "# Emple code to Get full Articles from entrez/eutils\n",
    "import requests\n",
    "import time\n",
    "\n",
    "def fetch_full_article(pmid):\n",
    "    base_url = \"https://eutils.ncbi.nlm.nih.gov/entrez/eutils/efetch.fcgi\"\n",
    "    params = {\n",
    "        \"db\": \"pmc\",\n",
    "        \"id\": pmid,\n",
    "        \"retmode\": \"xml\"\n",
    "    }\n",
    "\n",
    "    response = requests.get(base_url, params=params)\n",
    "    time.sleep(2)\n",
    "\n",
    "    if response.status_code == 200:\n",
    "        return response.text\n",
    "    else:\n",
    "        print(f\"Failed to fetch article for PMID {pmid}. Status code: {response.status_code}\")\n",
    "        return None\n",
    "\n",
    "# Example usage\n",
    "pmid = \"10022975\"  # Replace with the PMID of the article you want to fetch\n",
    "pmids = [\"10021351\", \"10022905\", \"10022914\", \"10022975\", \"10048487\", \"10048958\", \"10049162\", \"10049362\", \"10049567\", \"10049576\", \"10051671\", \"10051850\", \"10064800\", \"10066248\"]\n",
    "for pmid in pmids:\n",
    "    article_xml = fetch_full_article(pmid)\n",
    "    if article_xml:\n",
    "        with open(f\"./output/article_{pmid}.xml\", \"w\") as file:\n",
    "            file.write(article_xml)\n"
   ]
  },
  {
   "cell_type": "code",
   "execution_count": null,
   "metadata": {},
   "outputs": [],
   "source": [
    "import os\n",
    "env_vars = os.environ\n",
    "\n",
    "# Print each environment variable\n",
    "for key, value in env_vars.items():\n",
    "    print(f\"{key}: {value}\")"
   ]
  },
  {
   "cell_type": "code",
   "execution_count": null,
   "metadata": {},
   "outputs": [],
   "source": []
  }
 ],
 "metadata": {
  "kernelspec": {
   "display_name": "dan-dev",
   "language": "python",
   "name": "python3"
  },
  "language_info": {
   "codemirror_mode": {
    "name": "ipython",
    "version": 3
   },
   "file_extension": ".py",
   "mimetype": "text/x-python",
   "name": "python",
   "nbconvert_exporter": "python",
   "pygments_lexer": "ipython3",
   "version": "3.10.13"
  }
 },
 "nbformat": 4,
 "nbformat_minor": 2
}
