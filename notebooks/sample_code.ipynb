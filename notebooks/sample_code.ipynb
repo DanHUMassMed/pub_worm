{
 "cells": [
  {
   "cell_type": "code",
   "execution_count": null,
   "metadata": {},
   "outputs": [],
   "source": [
    "import sys\n",
    "import inspect\n",
    "\n",
    "# Add pub_worm directory to the Python path\n",
    "sys.path.insert(0, \"/Users/dan/Code/Python/pub_worm\")\n",
    "\n",
    "from pub_worm.wormbase.wormbase_util import annotation_files_list,download_annotation_file\n",
    "\n",
    "# Find where EntrezAPI is being load from\n",
    "module = inspect.getmodule(annotation_files_list)\n",
    "if hasattr(module, \"__file__\"):\n",
    "    file_path = module.__file__\n",
    "    print(\"annotation_files_list imported from:\", file_path)\n",
    "else:\n",
    "    print(\"Could not determine the file path.\")"
   ]
  },
  {
   "cell_type": "code",
   "execution_count": null,
   "metadata": {},
   "outputs": [],
   "source": [
    "wormbase_version=\"WS294\"\n",
    "annotation_files_list(wormbase_version)"
   ]
  },
  {
   "cell_type": "code",
   "execution_count": null,
   "metadata": {},
   "outputs": [],
   "source": [
    "output_dir = \"./output\"\n",
    "download_annotation_file(wormbase_version, \"expr_graph.csv.gz\", output_dir)\n"
   ]
  },
  {
   "cell_type": "code",
   "execution_count": null,
   "metadata": {},
   "outputs": [],
   "source": []
  }
 ],
 "metadata": {
  "kernelspec": {
   "display_name": "dan-dev",
   "language": "python",
   "name": "python3"
  },
  "language_info": {
   "codemirror_mode": {
    "name": "ipython",
    "version": 3
   },
   "file_extension": ".py",
   "mimetype": "text/x-python",
   "name": "python",
   "nbconvert_exporter": "python",
   "pygments_lexer": "ipython3",
   "version": "3.10.13"
  }
 },
 "nbformat": 4,
 "nbformat_minor": 2
}
