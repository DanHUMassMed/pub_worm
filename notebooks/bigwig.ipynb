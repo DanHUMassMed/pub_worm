{
 "cells": [
  {
   "cell_type": "markdown",
   "metadata": {},
   "source": [
    "https://www.encodeproject.org/\n"
   ]
  },
  {
   "cell_type": "code",
   "execution_count": null,
   "metadata": {},
   "outputs": [],
   "source": [
    "import requests\n",
    "\n",
    "# URL of the BigWig file on the modENCODE portal\n",
    "bigwig_url = \"https://www.encodeproject.org/files/ENCFF088LKU/@@download/ENCFF088LKU.bigWig\"\n",
    "\n",
    "local_file_nm=\"ENCFF088LKU.bigWig\"\n",
    "# Download the BigWig file\n",
    "response = requests.get(bigwig_url)\n",
    "with open(local_file_nm, \"wb\") as f:\n",
    "    f.write(response.content)"
   ]
  },
  {
   "cell_type": "code",
   "execution_count": null,
   "metadata": {},
   "outputs": [],
   "source": [
    "import pyBigWig\n",
    "bw = pyBigWig.open(local_file_nm)"
   ]
  },
  {
   "cell_type": "code",
   "execution_count": null,
   "metadata": {},
   "outputs": [],
   "source": [
    "# Get the header information\n",
    "print(bw.header())\n",
    "\n",
    "# # Fetch intervals from a specific region\n",
    "# chrom = \"chr1\"\n",
    "# start = 1000000\n",
    "# end = 1000100\n",
    "# intervals = bw.intervals(chrom, start, end)\n",
    "# print(intervals)\n",
    "\n",
    "# # # Close the BigWig file\n",
    "# # bw.close()\n"
   ]
  },
  {
   "cell_type": "code",
   "execution_count": null,
   "metadata": {},
   "outputs": [],
   "source": []
  }
 ],
 "metadata": {
  "kernelspec": {
   "display_name": "dan-dev",
   "language": "python",
   "name": "python3"
  },
  "language_info": {
   "codemirror_mode": {
    "name": "ipython",
    "version": 3
   },
   "file_extension": ".py",
   "mimetype": "text/x-python",
   "name": "python",
   "nbconvert_exporter": "python",
   "pygments_lexer": "ipython3",
   "version": "3.10.13"
  }
 },
 "nbformat": 4,
 "nbformat_minor": 2
}
