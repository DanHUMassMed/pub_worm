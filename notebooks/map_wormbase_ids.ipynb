{
 "cells": [
  {
   "cell_type": "code",
   "execution_count": null,
   "id": "1bc2e118",
   "metadata": {},
   "outputs": [],
   "source": [
    "import sys\n",
    "from pathlib import Path\n",
    "\n",
    "# Add pub_worm directory to the Python path\n",
    "sys.path.insert(0, str(Path.cwd().parent))\n",
    "\n",
    "# Test where we are loading the pub_worm objects from\n",
    "import inspect\n",
    "from pub_worm.wormbase.wormbase_api import WormbaseAPI\n",
    "\n",
    "module = inspect.getmodule(WormbaseAPI)\n",
    "if hasattr(module, \"__file__\"):\n",
    "    print(\"WormbaseAPI imported from:\", module.__file__)\n",
    "else:\n",
    "    print(\"Could not determine the file path.\")"
   ]
  },
  {
   "cell_type": "markdown",
   "id": "9b6a3ef4",
   "metadata": {},
   "source": [
    "# Map Wormbase IDs\n",
    "\n",
    "This API maps **Sequence IDs** to the latest **Wormbase Gene IDs**.\n",
    "\n",
    "### How it works:\n",
    "- The application first checks if the latest gene ID mapping file is available locally.\n",
    "- If the file is not found, it downloads the most recent mapping data from Wormbase.\n",
    "- The Sequence IDs provided in your file are then mapped to their corresponding current Wormbase Gene IDs using this data.\n"
   ]
  },
  {
   "cell_type": "markdown",
   "id": "6c9d6578",
   "metadata": {},
   "source": [
    "### Installation\n",
    "\n",
    "To install the package, run:\n",
    "\n",
    "```bash\n",
    "pip install pub-worm\n",
    "```\n",
    "- **Recommended**: Use within a **Conda environment** running **Python 3.12 or later** for optimal compatibility and performance."
   ]
  },
  {
   "cell_type": "markdown",
   "id": "0b156aaa",
   "metadata": {},
   "source": [
    "### Available Parameters\n",
    "\n",
    "- **sequence_ids_file_path** *(required)*  \n",
    "  Path to the input file containing sequence IDs.\n",
    "\n",
    "- **column_name** *(optional, default: `'ID'`)*  \n",
    "  Name of the column in the input file that contains the sequence IDs to be mapped.\n",
    "\n",
    "- **working_directory** *(optional, default: same as `sequence_ids_file_path`)*  \n",
    "  Directory where output and intermediate files will be saved.\n",
    "\n",
    "- **gene_ids_df** *(optional)*  \n",
    "  A `pandas.DataFrame` containing the gene ID mapping data.  \n",
    "  If not provided, the latest version will be downloaded automatically from [wormbase.org](https://wormbase.org)."
   ]
  },
  {
   "cell_type": "code",
   "execution_count": null,
   "id": "de1faa88",
   "metadata": {},
   "outputs": [],
   "source": [
    "# The simplest usage of map_wormbase_ids is to pass in sequence_ids.csv with a header of ID\n",
    "from pub_worm.wormbase.wormbase_util import map_wormbase_ids\n",
    " \n",
    "sequence_ids_file_path = \"./wormbase_data/sequence_ids.csv\"\n",
    "map_wormbase_ids(sequence_ids_file_path)"
   ]
  },
  {
   "cell_type": "code",
   "execution_count": null,
   "id": "a2b6bd09",
   "metadata": {},
   "outputs": [],
   "source": [
    "import pandas as pd\n",
    "wS296_gene_ids_df = pd.read_csv(\"./wormbase_data/c_elegans.PRJNA13758.WS296.geneIDs.csv\")\n",
    "map_wormbase_ids(sequence_ids_file_path, gene_ids_df=wS296_gene_ids_df)\n"
   ]
  },
  {
   "cell_type": "code",
   "execution_count": null,
   "id": "24592b0c",
   "metadata": {},
   "outputs": [],
   "source": [
    "\n",
    "import pandas as pd\n",
    "sequence_ids_df =pd.read_csv(\"./wormbase_data/sequence_ids.csv\")\n",
    "sequence_ids_df"
   ]
  },
  {
   "cell_type": "code",
   "execution_count": null,
   "id": "871f8f7b",
   "metadata": {},
   "outputs": [],
   "source": [
    "import pandas as pd\n",
    "gprofiler_df =pd.read_csv(\"./wormbase_data/gProfiler_celegans.csv\")\n",
    "gprofiler_df"
   ]
  },
  {
   "cell_type": "code",
   "execution_count": null,
   "id": "dd9f9a3d",
   "metadata": {},
   "outputs": [],
   "source": [
    "\n",
    "\n",
    "not_found_pub_worm_df = pd.read_csv('./wormbase_data/wormbase_ids_not_found.csv')\n",
    "not_found_pub_worm_df"
   ]
  },
  {
   "cell_type": "code",
   "execution_count": null,
   "id": "4541f62b",
   "metadata": {},
   "outputs": [],
   "source": []
  },
  {
   "cell_type": "markdown",
   "id": "d363557c",
   "metadata": {},
   "source": [
    "### Running the Application from the Command Line\n",
    "\n",
    "To use this tool from the command line:\n",
    "\n",
    "1. Save the script below as `run_map_wormbase_ids.py`.\n",
    "\n",
    "#### Example Usage\n",
    "\n",
    "- Run with default column (`ID`) and output to the same directory as the input file:  \n",
    "  `python run_map_wormbase_ids.py path/to/sequence_ids.csv`\n",
    "\n",
    "- Run with a custom column name (`Wormbase_Id`) and specify an output directory:  \n",
    "  `python run_map_wormbase_ids.py path/to/sequence_ids.csv Wormbase_Id ./output_dir`"
   ]
  },
  {
   "cell_type": "markdown",
   "id": "2114f716",
   "metadata": {},
   "source": [
    "```python\n",
    "# save this as: run_map_wormbase_ids.py\n",
    "\n",
    "import sys\n",
    "from pathlib import Path\n",
    "from pub_worm.wormbase.wormbase_util import map_wormbase_ids\n",
    "\n",
    "def main():\n",
    "    if len(sys.argv) < 2:\n",
    "        print(\"Usage: python run_map_wormbase_ids.py <sequence_ids_file_path> [column_name] [working_directory]\")\n",
    "        sys.exit(1)\n",
    "\n",
    "    sequence_ids_file_path = Path(sys.argv[1])\n",
    "    column_name = sys.argv[2] if len(sys.argv) > 2 else \"ID\"\n",
    "    working_directory = Path(sys.argv[3]) if len(sys.argv) > 3 else sequence_ids_file_path.parent\n",
    "\n",
    "    map_wormbase_ids(\n",
    "        sequence_ids_file_path=sequence_ids_file_path,\n",
    "        column_name=column_name,\n",
    "        working_dir_path=working_directory\n",
    "    )\n",
    "\n",
    "if __name__ == \"__main__\":\n",
    "    main()\n",
    "```"
   ]
  },
  {
   "cell_type": "markdown",
   "id": "4f634905",
   "metadata": {},
   "source": []
  }
 ],
 "metadata": {
  "kernelspec": {
   "display_name": "dan-dev",
   "language": "python",
   "name": "python3"
  },
  "language_info": {
   "codemirror_mode": {
    "name": "ipython",
    "version": 3
   },
   "file_extension": ".py",
   "mimetype": "text/x-python",
   "name": "python",
   "nbconvert_exporter": "python",
   "pygments_lexer": "ipython3",
   "version": "3.10.13"
  }
 },
 "nbformat": 4,
 "nbformat_minor": 5
}
