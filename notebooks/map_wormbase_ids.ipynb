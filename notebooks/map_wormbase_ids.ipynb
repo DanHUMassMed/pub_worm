{
 "cells": [
  {
   "cell_type": "code",
   "execution_count": null,
   "id": "1bc2e118",
   "metadata": {},
   "outputs": [],
   "source": [
    "import sys\n",
    "from pathlib import Path\n",
    "import inspect\n",
    "\n",
    "# Add pub_worm directory to the Python path\n",
    "sys.path.insert(0, str(Path.cwd().parent))\n",
    "\n",
    "print(sys.path)  "
   ]
  },
  {
   "cell_type": "code",
   "execution_count": null,
   "id": "1e7252c3",
   "metadata": {},
   "outputs": [],
   "source": [
    "# Test where we are loading the pub_worm objects from\n",
    "\n",
    "from pub_worm.wormbase.wormbase_api import WormbaseAPI\n",
    "\n",
    "module = inspect.getmodule(WormbaseAPI)\n",
    "if hasattr(module, \"__file__\"):\n",
    "    print(\"WormbaseAPI imported from:\", module.__file__)\n",
    "else:\n",
    "    print(\"Could not determine the file path.\")\n",
    "    "
   ]
  },
  {
   "cell_type": "code",
   "execution_count": null,
   "id": "de1faa88",
   "metadata": {},
   "outputs": [],
   "source": [
    " from pub_worm.wormbase.wormbase_util import map_wormbase_ids\n",
    " \n",
    " sequence_ids_file_path = \"./wormbase_data/sequence_ids.csv\"\n",
    " map_wormbase_ids(sequence_ids_file_path)"
   ]
  },
  {
   "cell_type": "code",
   "execution_count": null,
   "id": "24592b0c",
   "metadata": {},
   "outputs": [],
   "source": [
    "\n",
    "import pandas as pd\n",
    "sequence_ids_df =pd.read_csv(\"./wormbase_data/sequence_ids.csv\")\n",
    "sequence_ids_df"
   ]
  },
  {
   "cell_type": "code",
   "execution_count": null,
   "id": "871f8f7b",
   "metadata": {},
   "outputs": [],
   "source": [
    "import pandas as pd\n",
    "gprofiler_df =pd.read_csv(\"./wormbase_data/gProfiler_celegans.csv\")\n",
    "gprofiler_df"
   ]
  },
  {
   "cell_type": "code",
   "execution_count": null,
   "id": "dd9f9a3d",
   "metadata": {},
   "outputs": [],
   "source": [
    "\n",
    "\n",
    "not_found_pub_worm_df = pd.read_csv('./wormbase_data/wormbase_ids_not_found.csv')\n",
    "not_found_pub_worm_df"
   ]
  },
  {
   "cell_type": "code",
   "execution_count": null,
   "id": "37fa3387",
   "metadata": {},
   "outputs": [],
   "source": [
    "# Ensure columns are string and convert to uppercase\n",
    "not_found_pub_worm_df['ID'] = not_found_pub_worm_df['ID'].astype(str).str.upper()\n",
    "gprofiler_df['initial_alias'] = gprofiler_df['initial_alias'].astype(str).str.upper()\n",
    "\n",
    "# Perform left join\n",
    "merged_df = pd.merge(\n",
    "    not_found_pub_worm_df,\n",
    "    gprofiler_df,\n",
    "    how='left',\n",
    "    left_on='ID',\n",
    "    right_on='initial_alias'\n",
    ")\n",
    "\n",
    "merged_df.to_csv('./wormbase_data/not_found_merge.csv')"
   ]
  },
  {
   "cell_type": "code",
   "execution_count": null,
   "id": "19553709",
   "metadata": {},
   "outputs": [],
   "source": [
    "common_ids = set(sequence_ids_df['ID']) & set(gprofiler_df['initial_alias'])\n",
    "print(f\"number of sequence_ids {len(sequence_ids_df['ID']):,}\")\n",
    "print(f\"{len(common_ids):,} common IDs found.\")\n",
    "print(f\"FME {len(sequence_ids_df['ID'])-len(gprofiler_df['initial_alias']):,}\")\n",
    "print(f\"FME {len(set(sequence_ids_df['ID']))-len(set(gprofiler_df['initial_alias'])):,}\")\n",
    "print(list(common_ids)[:10])  # show first 10 matches"
   ]
  },
  {
   "cell_type": "code",
   "execution_count": null,
   "id": "45c59cdb",
   "metadata": {},
   "outputs": [],
   "source": [
    "len(set(gprofiler_df['initial_alias']))"
   ]
  },
  {
   "cell_type": "code",
   "execution_count": null,
   "id": "3610a4a3",
   "metadata": {},
   "outputs": [],
   "source": [
    "len(set(not_found_pub_worm_df['ID']))"
   ]
  },
  {
   "cell_type": "code",
   "execution_count": null,
   "id": "4541f62b",
   "metadata": {},
   "outputs": [],
   "source": []
  }
 ],
 "metadata": {
  "kernelspec": {
   "display_name": "dan-dev",
   "language": "python",
   "name": "python3"
  },
  "language_info": {
   "codemirror_mode": {
    "name": "ipython",
    "version": 3
   },
   "file_extension": ".py",
   "mimetype": "text/x-python",
   "name": "python",
   "nbconvert_exporter": "python",
   "pygments_lexer": "ipython3",
   "version": "3.10.13"
  }
 },
 "nbformat": 4,
 "nbformat_minor": 5
}
