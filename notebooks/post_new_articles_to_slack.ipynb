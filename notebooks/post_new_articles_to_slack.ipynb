{
 "cells": [
  {
   "cell_type": "code",
   "execution_count": null,
   "metadata": {},
   "outputs": [],
   "source": [
    "import sys\n",
    "import inspect\n",
    "from datetime import datetime, timedelta\n",
    "\n",
    "# Add pub_worm directory to the Python path\n",
    "sys.path.insert(0, \"/Users/dan/Code/Python/pub_worm\")\n",
    "\n",
    "from pub_worm.ncbi.entreze_api import EntrezAPI\n",
    "from pub_worm.biorxiv.biorxiv_api import biorxiv_search\n",
    "\n",
    "# Find where EntrezAPI is being load from\n",
    "module = inspect.getmodule(EntrezAPI)\n",
    "if hasattr(module, \"__file__\"):\n",
    "    file_path = module.__file__\n",
    "    print(\"EntrezAPI imported from:\", file_path)\n",
    "else:\n",
    "    print(\"Could not determine the file path.\")"
   ]
  },
  {
   "cell_type": "code",
   "execution_count": null,
   "metadata": {},
   "outputs": [],
   "source": [
    "!pwd\n"
   ]
  },
  {
   "cell_type": "code",
   "execution_count": null,
   "metadata": {},
   "outputs": [],
   "source": [
    "import os\n",
    "from dotenv import load_dotenv\n",
    "\n",
    "# Load environment variables from .env file\n",
    "load_dotenv()\n",
    "\n",
    "# Get the slack_hook variable\n",
    "slack_webhook = os.getenv('slack_webhook')\n"
   ]
  },
  {
   "cell_type": "code",
   "execution_count": null,
   "metadata": {},
   "outputs": [],
   "source": [
    "term = \"C. elegans\"\n",
    "days=0\n",
    "# Get the date range for the search (last `days` days)\n",
    "today = datetime.today()\n",
    "start_date = (today - timedelta(days=days)).strftime('%Y/%m/%d')\n",
    "end_date = today.strftime('%Y/%m/%d')\n",
    "\n",
    "search_term = f\"{term} AND ({start_date}[PDAT] : {end_date}[PDAT])\"\n",
    "\n",
    "ncbi_api = EntrezAPI()\n",
    "esearch_params = {'term': search_term }\n",
    "esearch_result = ncbi_api.entreze_esearch(esearch_params)\n",
    "#epost_result = ncbi_api.entreze_epost(esearch_result)\n",
    "efetch_result = ncbi_api.entreze_efetch(esearch_result)\n",
    "for entry in efetch_result['articles']:\n",
    "    print(f\"Title: {entry['title']}\")\n",
    "    print(f\"doi: https://doi.org/{entry['doi']}\")\n",
    "    print()\n",
    "    post_to_slack(entry['title'], f\"https://doi.org/{entry['doi']}\", slack_webhook)"
   ]
  },
  {
   "cell_type": "code",
   "execution_count": null,
   "metadata": {},
   "outputs": [],
   "source": [
    "\n",
    "result_dict = biorxiv_search(from_date=\"2024-10-23\", to_date=\"2024-10-24\")\n",
    "for entry in result_dict:\n",
    "    print(entry)"
   ]
  },
  {
   "cell_type": "code",
   "execution_count": null,
   "metadata": {},
   "outputs": [],
   "source": [
    "import requests\n",
    "import json\n",
    "\n",
    "def post_to_slack(new_title, new_url, slack_webhook):\n",
    "    slack_webhook_url=f\"https://hooks.slack.com/services/{slack_webhook}\"\n",
    "    message = f\"*{new_title}*\\n{new_url}\"\n",
    "    slack_data = {\n",
    "        \"blocks\": [\n",
    "            {\n",
    "                \"type\": \"section\",\n",
    "                \"text\": {\n",
    "                    \"type\": \"mrkdwn\",\n",
    "                    \"text\": message\n",
    "                }\n",
    "            }\n",
    "        ]\n",
    "    }\n",
    "\n",
    "    response = requests.post(slack_webhook_url, data=json.dumps(slack_data), headers={'Content-Type': 'application/json'})\n",
    "    \n",
    "    if response.status_code != 200:\n",
    "        raise Exception(f\"Slack API request failed with status code {response.status_code}\")\n",
    "\n"
   ]
  },
  {
   "cell_type": "code",
   "execution_count": null,
   "metadata": {},
   "outputs": [],
   "source": [
    "result_dict = biorxiv_search()\n",
    "for entry in result_dict:\n",
    "    print(entry)\n",
    "    "
   ]
  },
  {
   "cell_type": "code",
   "execution_count": null,
   "metadata": {},
   "outputs": [],
   "source": [
    "post_to_slack(result_dict[0], slack_webhook)"
   ]
  },
  {
   "cell_type": "code",
   "execution_count": null,
   "metadata": {},
   "outputs": [],
   "source": []
  }
 ],
 "metadata": {
  "kernelspec": {
   "display_name": "dan-dev",
   "language": "python",
   "name": "python3"
  },
  "language_info": {
   "codemirror_mode": {
    "name": "ipython",
    "version": 3
   },
   "file_extension": ".py",
   "mimetype": "text/x-python",
   "name": "python",
   "nbconvert_exporter": "python",
   "pygments_lexer": "ipython3",
   "version": "3.10.13"
  }
 },
 "nbformat": 4,
 "nbformat_minor": 2
}
