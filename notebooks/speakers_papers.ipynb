{
 "cells": [
  {
   "cell_type": "markdown",
   "metadata": {},
   "source": [
    "# Find Journal Articles for potential speakers\n",
    "\n",
    "* Given a list of Speaker Names and there current Affiliation (School)\n",
    "* Find Journal Articles written in the past five years\n",
    "* Sort the Articals by Journals Impact Factor and Year of Publication\n",
    "* Create an Excel Workbook that consolidates the results\n"
   ]
  },
  {
   "cell_type": "code",
   "execution_count": null,
   "metadata": {},
   "outputs": [],
   "source": [
    "import sys\n",
    "import inspect\n",
    "import pandas as pd\n",
    "from openpyxl import Workbook\n",
    "from openpyxl.styles import PatternFill\n",
    "from openpyxl.utils import get_column_letter\n",
    "import os\n",
    "import json\n",
    "\n",
    "# Add pub_worm directory to the Python path\n",
    "sys.path.append(\"/Users/dan/Code/Python/pub_worm\")\n",
    "\n",
    "from pub_worm.ncbi.entreze_api import EntrezAPI\n",
    "\n",
    "# Find where EntrezAPI is being load from\n",
    "module = inspect.getmodule(EntrezAPI)\n",
    "if hasattr(module, \"__file__\"):\n",
    "    file_path = module.__file__\n",
    "    print(\"EntrezAPI imported from:\", file_path)\n",
    "else:\n",
    "    print(\"Could not determine the file path.\")"
   ]
  },
  {
   "cell_type": "code",
   "execution_count": null,
   "metadata": {},
   "outputs": [],
   "source": [
    "# List of potential Speakers\n",
    "speakers = {\"Charlie_Serhan\"     :\"Charles N Serhan[au] AND (2019/01/01:2024/04/16[pdat]) AND (harvard[affil])\",\n",
    "            \"Lawrence_Marnett\"   :\"Marnett L[au] AND (2019/01/01:2024/04/16[pdat])AND (vanderbilt[affil])\",\n",
    "            \"Sarah_Fendt\"        :\"Fendt S[au] AND (2019/01/01:2024/04/16[pdat])\",\n",
    "            \"Meng_Wang\"          :\"Meng C Wang[au] AND (2019/01/01:2024/04/16[pdat]) AND (janelia[affil] OR Baylor[affil])\",\n",
    "            \"Jenny_Watts\"        :\"Jennifer L Watts [au] AND (2019/01/01:2024/04/16[pdat])\",\n",
    "            \"Valerie_Kagan\"      :\"Kagan VE[au] AND (2019/01/01:2024/04/16[pdat])AND (pitt[affil])\",\n",
    "            \"Shirin_Bahmanyar\"   :\"Shirin Bahmanyar[au] AND (2019/01/01:2024/04/16[pdat])\",\n",
    "            \"Arun_Radhakrishnan\" :\"Arun Radhakrishnan[au] AND University of Texas Southwestern[affil] AND(2019/01/01:2024/04/16[pdat])\",\n",
    "            \"Todd_Graham\"        :\"Graham TR[au] AND (2019/01/01:2024/04/16[pdat]) AND (vanderbilt[affil])\",\n",
    "            \"Chris_Burd\"         :\"Burd CG[au] AND (2019/01/01:2024/04/16[pdat])) AND (yale[affil])\",\n",
    "            \"Jeeyun_Chung\"       :\"Jeeyun Chung[au] AND (2019/01/01:2024/04/16[pdat]) AND (harvard[affil])\",\n",
    "            \"Hanaa_Hariri\"       :\"Hanaa Hariri[au] AND (2019/01/01:2024/04/16[pdat])\",\n",
    "            \"Fikadu_Tafesse\"     :\"Tafesse FG[au] AND (2019/01/01:2024/04/16[pdat])\",\n",
    "            \"Roberto_Zoncu\"      :\"Zoncu R[au] AND (2019/01/01:2024/04/16[pdat])\",\n",
    "            \"Kuang_Shen\"         :\"Kuang Shen[au] AND (2019/01/01:2024/04/16[pdat])\",\n",
    "            \"Alison_Ondrus\"      :\"Alison E Ondrus[au] AND (2019/01/01:2024/04/16[pdat])\",\n",
    "            \"Squire_Booker\"      :\"Squire Booker[au] AND (2019/01/01:2024/04/16[pdat])\",\n",
    "            \"Randolph_Hampton\"   :\"Randolph Hampton[au] AND (2019/01/01:2024/04/16[pdat])\",\n",
    "            \"Anne_Spang\"         :\"Anne Spang[au] AND (2019/01/01:2024/04/16[pdat])\",\n",
    "            \"Yasunori_Saheki\"    :\"Yasunori saheki[au] AND (2019/01/01:2024/04/16[pdat])\",\n",
    "            \"Michael_Schlame\"    :\"Michael Schlame[au] AND (2019/01/01:2024/04/16[pdat])\",\n",
    "            \"Brittany_White\"     :\"Brittany M White[au] AND (2019/01/01:2024/04/16[pdat])\",\n",
    "            \"Scott_Hansen\"       :\"Scott D Hansen[au] AND (2019/01/01:2024/04/16[pdat])\",\n",
    "            \"Andre_Nadler\"       :\"Andre Nadler[au] AND (2019/01/01:2024/04/16[pdat])\",\n",
    "            \"Jeffrey_Spraggins\"  :\"Jeffrey Spraggins[au] AND (2019/01/01:2024/04/16[pdat])\",\n",
    "            \"Theodore_Alexandrov\":\"Theodore Alexandrov[au] AND (2019/01/01:2024/04/16[pdat])AND (EMBL[affil])\",\n",
    "            \"Paula_Welander\"     :\"Paula Welander[au] AND (2019/01/01:2024/04/16[pdat])\",\n",
    "            \"Han_Remaut\"         :\"Han Remaut[au] AND (2019/01/01:2024/04/16[pdat])\",\n",
    "            \"Alessio_Accardi\"    :\"Alessio Accardi[au] AND (2019/01/01:2024/04/16[pdat])\"\n",
    "        }\n"
   ]
  },
  {
   "cell_type": "code",
   "execution_count": null,
   "metadata": {},
   "outputs": [],
   "source": [
    "# Function to search NCBI with EntrezAPI given a search term\n",
    "def get_papers_for_speaker(search_term):\n",
    "    results = []\n",
    "    esearch_params = {'term': search_term }\n",
    "    ncbi_api = EntrezAPI()\n",
    "    entreze_esearch_data = ncbi_api.entreze_esearch(esearch_params)\n",
    "    if 'WebEnv' in entreze_esearch_data:\n",
    "        results = ncbi_api.entreze_efetch(entreze_esearch_data)\n",
    "    else:\n",
    "        print(\"ERROR: entreze_esearch failed\")\n",
    "    return results\n"
   ]
  },
  {
   "cell_type": "code",
   "execution_count": null,
   "metadata": {},
   "outputs": [],
   "source": [
    "# Iterate the speaker list and build a collection of dataframes with the results\n",
    "papers_for_speakers = {}\n",
    "for speaker in speakers:\n",
    "    search_term = speakers[speaker]\n",
    "    papers_for_speaker = get_papers_for_speaker(search_term)\n",
    "    papers_for_speaker_df = pd.DataFrame(papers_for_speaker)\n",
    "    papers_for_speaker_df['pmid'] = papers_for_speaker_df['pmid'].apply(lambda x: 'https://pubmed.ncbi.nlm.nih.gov/' + x)\n",
    "    papers_for_speaker_df = papers_for_speaker_df.sort_values(by=['impact_factor', 'pub_year'], ascending=[False, False])\n",
    "\n",
    "    papers_for_speakers[speaker]=papers_for_speaker_df\n",
    "    print(speaker)"
   ]
  },
  {
   "cell_type": "code",
   "execution_count": null,
   "metadata": {},
   "outputs": [],
   "source": [
    "# TEST ONE\n",
    "# search_term = \"Charles N Serhan[au] AND (2019/01/01:2024/04/16[pdat]) AND (harvard[affil])\"\n",
    "# papers_for_speaker = get_papers_for_speaker(search_term)\n",
    "# papers_for_speaker"
   ]
  },
  {
   "cell_type": "code",
   "execution_count": null,
   "metadata": {},
   "outputs": [],
   "source": [
    "# A function to fit the column width of a spreadsheet to the data in that column\n",
    "def autofit_columns(worksheet):\n",
    "    for column in worksheet.columns:\n",
    "        max_length = 0\n",
    "        column = [cell for cell in column]\n",
    "        for cell in column:\n",
    "            try:\n",
    "                if len(str(cell.value)) > max_length:\n",
    "                    max_length = len(cell.value)\n",
    "            except:\n",
    "                pass\n",
    "        if max_length > 150:\n",
    "            max_length = 150\n",
    "        adjusted_width = (max_length + 2)  # Adding some extra padding\n",
    "        worksheet.column_dimensions[get_column_letter(column[0].column)].width = adjusted_width\n"
   ]
  },
  {
   "cell_type": "code",
   "execution_count": null,
   "metadata": {},
   "outputs": [],
   "source": [
    "# Create an Excel Workbook with a sheet for each potential speaker.\n",
    "\n",
    "output_dir = \"./output\"\n",
    "if not os.path.exists(output_dir):\n",
    "    # Create the directory if it does not exist\n",
    "    os.makedirs(output_dir)\n",
    "\n",
    "excel_file_path = f\"{output_dir}/articles.xlsx\"\n",
    "\n",
    "if os.path.exists(excel_file_path):\n",
    "    os.remove(excel_file_path)\n",
    "\n",
    "# Create a new workbook\n",
    "workbook = Workbook()\n",
    "\n",
    "# Remove the default \"Sheet\" created by openpyxl\n",
    "default_sheet = workbook['Sheet']\n",
    "#workbook.remove(default_sheet)\n",
    "\n",
    "with pd.ExcelWriter(excel_file_path, engine='openpyxl') as writer:\n",
    "    #writer.book = workbook\n",
    "    for speaker in sorted(papers_for_speakers.keys()):\n",
    "        df = papers_for_speakers[speaker]\n",
    "        df.to_excel(writer, sheet_name=speaker, index=False)    \n",
    "        \n",
    "    # Autofit and highlight columns for each sheet\n",
    "    for sheet in writer.sheets.values():\n",
    "        autofit_columns(sheet)"
   ]
  },
  {
   "cell_type": "code",
   "execution_count": null,
   "metadata": {},
   "outputs": [],
   "source": []
  }
 ],
 "metadata": {
  "kernelspec": {
   "display_name": "dan-dev",
   "language": "python",
   "name": "python3"
  },
  "language_info": {
   "codemirror_mode": {
    "name": "ipython",
    "version": 3
   },
   "file_extension": ".py",
   "mimetype": "text/x-python",
   "name": "python",
   "nbconvert_exporter": "python",
   "pygments_lexer": "ipython3",
   "version": "3.10.13"
  }
 },
 "nbformat": 4,
 "nbformat_minor": 2
}
